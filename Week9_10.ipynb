{
  "nbformat": 4,
  "nbformat_minor": 0,
  "metadata": {
    "colab": {
      "provenance": [],
      "authorship_tag": "ABX9TyNvV4CrIdTDxn0gPGbpQez1",
      "include_colab_link": true
    },
    "kernelspec": {
      "name": "python3",
      "display_name": "Python 3"
    },
    "language_info": {
      "name": "python"
    }
  },
  "cells": [
    {
      "cell_type": "markdown",
      "metadata": {
        "id": "view-in-github",
        "colab_type": "text"
      },
      "source": [
        "<a href=\"https://colab.research.google.com/github/likeeyong51/Anvil-apps/blob/master/Week9_10.ipynb\" target=\"_parent\"><img src=\"https://colab.research.google.com/assets/colab-badge.svg\" alt=\"Open In Colab\"/></a>"
      ]
    },
    {
      "cell_type": "markdown",
      "source": [
        "# Week `9`-`10`\n",
        "* Functions and procedures\n",
        "* Lists and dictionaries\n",
        "---"
      ],
      "metadata": {
        "id": "179fzFTLm9-W"
      }
    },
    {
      "cell_type": "markdown",
      "source": [
        "###Activity `1`\n",
        "Code in Python a function that `receives two numbers`, `calculates and returns the sum of the numbers`.<br>Use the following to test your function:\n",
        "* add 5 and 6, store  in and print x\n",
        "* add 10 and 20, store in and print  y\n",
        "* Then, add x and y, store in and print z"
      ],
      "metadata": {
        "id": "b8s6mNAim9OW"
      }
    },
    {
      "cell_type": "code",
      "source": [
        "# a function that received two number, calculates and returns the sum of the numbers\n",
        "def add(a,b):\n",
        "    return a+b"
      ],
      "metadata": {
        "id": "9EelAL0LPLfb"
      },
      "execution_count": null,
      "outputs": []
    },
    {
      "cell_type": "markdown",
      "source": [
        "###Activity `2`\n",
        "Code in Python a program that prints the first ten multiples of 52. Use a `function` that calculates and returns a multiple of 52.\n"
      ],
      "metadata": {
        "id": "IjGs1LTKpBMM"
      }
    },
    {
      "cell_type": "code",
      "source": [
        "# a function that calculates and returns a multiple of 52\n",
        "def multiple(a):\n",
        "    return a*52"
      ],
      "metadata": {
        "id": "o3Ohfk6APKVl"
      },
      "execution_count": null,
      "outputs": []
    },
    {
      "cell_type": "markdown",
      "source": [
        "###Activity `3`\n",
        "Design a `function` that `randomly generates and returns a number`.<br>\n",
        "Then code and test the function by getting it to `generate and then print ten random numbers` (between `[0, 1)`).\n",
        "\n",
        "`START`\n",
        "```\n",
        "    // write your pseudocode here\n",
        "    FUNCTION generate_random_number()\n",
        "      GENERATE and RETURN random_num\n",
        "    ENDFUNCTION\n",
        "\n",
        "    SET counter TO 1\n",
        "\n",
        "    WHILE counter <= 10 LOOP\n",
        "      SET x to generate_random_number()\n",
        "      PRINT x\n",
        "      SET counter TO counter + 1\n",
        "    ENDWHILE\n",
        "```\n",
        "`STOP`\n"
      ],
      "metadata": {
        "id": "gE1a7Z0SpGdH"
      }
    },
    {
      "cell_type": "code",
      "source": [
        "# a function that generates a number between [0, 1)\n",
        "import random\n",
        "def generate():\n",
        "    return random.random()\n",
        ""
      ],
      "metadata": {
        "id": "q2Me8XCaQqUm"
      },
      "execution_count": null,
      "outputs": []
    },
    {
      "cell_type": "markdown",
      "source": [
        "###Activity `4`\n",
        "Code in python a function that generates and returns an integer number between 1 and 10 inclusive.  To test the function, call and print a random number.\n"
      ],
      "metadata": {
        "id": "LMfeaxPs8nqp"
      }
    },
    {
      "cell_type": "code",
      "source": [
        "# place your code here\n"
      ],
      "metadata": {
        "id": "pfdxXiDP8ItO"
      },
      "execution_count": null,
      "outputs": []
    },
    {
      "cell_type": "markdown",
      "source": [
        "###Activity `5`\n",
        "Modify the function to generate and return an integer number between 25 and 50 inclusive.  To test the function, call and print a random number."
      ],
      "metadata": {
        "id": "0uEqLijf79jc"
      }
    },
    {
      "cell_type": "code",
      "source": [
        "# place your code here\n"
      ],
      "metadata": {
        "id": "Pgxt4Avf8Lyd"
      },
      "execution_count": null,
      "outputs": []
    },
    {
      "cell_type": "markdown",
      "source": [
        "---\n",
        "###Session `9.2` | `Anvil`.works\n",
        "Complete the following exercises as prescribed in this week's slides:\n",
        "* `Timer`\n",
        "* `Random number generator`"
      ],
      "metadata": {
        "id": "ggUARnrq9vC0"
      }
    },
    {
      "cell_type": "markdown",
      "source": [
        "---\n",
        "##Week `10`\n",
        "* `Lists`\n",
        "* `Dictionaries`"
      ],
      "metadata": {
        "id": "5__PYSWM_RES"
      }
    },
    {
      "cell_type": "markdown",
      "source": [
        "###Activity `1`\n",
        "Create a program to `prompt the user for 5 integers` and `storing them in a list`.\n",
        "Then `print the list` of numbers.\n"
      ],
      "metadata": {
        "id": "Um_mCLDgBWLY"
      }
    },
    {
      "cell_type": "code",
      "source": [
        "# place your code here\n",
        "num_list = [0]*5 # allocate 5 spaces\n",
        "\n",
        "# get 5 numbers or ...\n",
        "for i in range(5):\n",
        "  num_list[i] = input(\"Enter a number: \")\n",
        "\n",
        "# print out the number list\n",
        "for n in num_list:\n",
        "  print(n)\n",
        "\n",
        "# alternatively, you can also print out a list inline\n",
        "print([n for n in num_list])\n",
        "\n",
        "# or just print the number list\n",
        "print(num_list)\n",
        "\n",
        "# remove first item\n",
        "num_list.remove(num_list[0])\n",
        "print(num_list)\n",
        "\n",
        "# remove last item\n",
        "num_list.pop()\n",
        "print(num_list)\n",
        "\n",
        "# delete first item\n",
        "del num_list[0]\n",
        "print(num_list)"
      ],
      "metadata": {
        "id": "WVCOmI_6D6cm"
      },
      "execution_count": null,
      "outputs": []
    },
    {
      "cell_type": "code",
      "source": [
        "# version: array only\n",
        "import array\n",
        "\n",
        "num_list = array.array('i', [0]*5) # allocate 5 spaces\n",
        "\n",
        "# get 5 numbers\n",
        "for i in range(5):\n",
        "  num_list[i] = int(input(\"Enter a number: \"))\n",
        "\n",
        "print(num_list)\n",
        "\n",
        "# array comprehension - even numbers only\n",
        "new_num_list = array.array('i', [num for num in num_list if num % 2 == 0])\n",
        "print(new_num_list)"
      ],
      "metadata": {
        "id": "SKTDqRVJIoBW"
      },
      "execution_count": null,
      "outputs": []
    },
    {
      "cell_type": "markdown",
      "source": [
        "###Activity `2`\n",
        "Create a program to `prompt the user for 10 names` and `storing them in a list`.\n",
        "Then `print the list` of names.\n"
      ],
      "metadata": {
        "id": "elC16InPD66-"
      }
    },
    {
      "cell_type": "code",
      "source": [
        "# place your code here\n"
      ],
      "metadata": {
        "id": "mT_tl4NwF0Xk"
      },
      "execution_count": null,
      "outputs": []
    },
    {
      "cell_type": "code",
      "source": [
        "# version: string array with numpy\n",
        "import numpy as np\n",
        "\n",
        "# allocate an array of 10 elements\n",
        "name_list = np.array(['']*10)\n",
        "\n",
        "for i in range(10):\n",
        "  name_list[i] = input(\"Enter a name: \")\n",
        "\n",
        "print(*name_list)\n",
        "\n",
        "# slicing an array/list [start_index:stop_index)\n",
        "print(name_list[2:5])\n",
        "\n",
        "# array comprehension - except 'b'\n",
        "new_name_list = array.array('u', [name for name in name_list if name != 'b'])\n",
        "print(*new_name_list)"
      ],
      "metadata": {
        "id": "7w5Z2oNxJ5DK"
      },
      "execution_count": null,
      "outputs": []
    },
    {
      "cell_type": "markdown",
      "source": [
        "##Week `10.2`\n",
        "* `Dictionaries`"
      ],
      "metadata": {
        "id": "eggbvNnvOJqm"
      }
    },
    {
      "cell_type": "markdown",
      "source": [
        "**Creating a Dictionary**\n",
        "    \n",
        "    You can create a dictionary using curly braces {} with key-value pairs separated by colons :.\n",
        "\n",
        "**Accessing Values**\n",
        "    \n",
        "    You can access values by using their corresponding keys.\n",
        "\n",
        "**Adding or Updating Key-Value Pairs**\n",
        "    \n",
        "    You can add new key-value pairs or update existing ones by assigning a value to a key."
      ],
      "metadata": {
        "id": "YykXWsLAck9g"
      }
    },
    {
      "cell_type": "code",
      "source": [
        "# declare an empty dictionary\n",
        "my_dict = {}\n",
        "\n",
        "# Dictionary with initial key-value pairs\n",
        "my_dict = {\n",
        "    \"name\": \"Alice\",\n",
        "    \"age\": 25,\n",
        "    \"city\": \"Melbourne\"\n",
        "}\n",
        "\n",
        "print(my_dict[\"name\"])  # Output: Alice\n",
        "print(my_dict[\"age\"])   # Output: 25\n",
        "\n",
        "# Adding a new key-value pair\n",
        "my_dict[\"email\"] = \"alice@example.com\"\n",
        "\n",
        "# Updating an existing key-value pair\n",
        "my_dict[\"age\"] = 26\n",
        "\n",
        "print(my_dict)"
      ],
      "metadata": {
        "id": "6mPyOuPmOSmV"
      },
      "execution_count": null,
      "outputs": []
    },
    {
      "cell_type": "markdown",
      "source": [
        "**Removing Key-Value Pairs**\n",
        "\n",
        "    You can remove key-value pairs using the del statement or the pop method."
      ],
      "metadata": {
        "id": "wuiwxSu9cTw6"
      }
    },
    {
      "cell_type": "code",
      "source": [
        "# Using del\n",
        "del my_dict[\"city\"]\n",
        "\n",
        "# Using pop\n",
        "email = my_dict.pop(\"email\")\n",
        "\n",
        "print(my_dict)  # Output: {'name': 'Alice', 'age': 26}\n",
        "print(email)    # Output: alice@example.com"
      ],
      "metadata": {
        "id": "iYoQfssTc6DL"
      },
      "execution_count": null,
      "outputs": []
    },
    {
      "cell_type": "markdown",
      "source": [
        "**Checking for Keys**\n",
        "\n",
        "    You can check if a key exists in the dictionary using the in keyword."
      ],
      "metadata": {
        "id": "ZKytjhO8c0km"
      }
    },
    {
      "cell_type": "code",
      "source": [
        "# check if a key exist in my_dict\n",
        "if \"name\" in my_dict:\n",
        "    print(\"Name is present\")\n",
        "else:\n",
        "    print(\"Name is not present\")"
      ],
      "metadata": {
        "id": "m5lPrsdpYmuY"
      },
      "execution_count": null,
      "outputs": []
    },
    {
      "cell_type": "markdown",
      "source": [
        "**Iterating Over a Dictionary**\n",
        "\n",
        "    You can iterate over keys, values, or key-value pairs using loops."
      ],
      "metadata": {
        "id": "J418ZJlOdE1S"
      }
    },
    {
      "cell_type": "code",
      "source": [
        "# Iterating over keys\n",
        "print('Keys in my dictionary:')\n",
        "\n",
        "for key in my_dict:\n",
        "    print(key)\n",
        "\n",
        "# Iterating over values\n",
        "print('\\nValues in my dictionary:')\n",
        "\n",
        "for value in my_dict.values():\n",
        "    print(value)\n",
        "\n",
        "# Iterating over key-value pairs\n",
        "print('\\nKey-value pairs in my dictionary')\n",
        "\n",
        "for key, value in my_dict.items():\n",
        "    print(f\"{key}: {value}\")"
      ],
      "metadata": {
        "id": "8LToCoP4Ywrb"
      },
      "execution_count": null,
      "outputs": []
    },
    {
      "cell_type": "markdown",
      "source": [
        "###Dictionary `Methods`\n",
        "Dictionaries come with several useful methods.\n",
        "\n",
        "Here are a few:\n",
        "\n",
        "* **keys()**:\n",
        "      Returns a view object of all keys.\n",
        "* **values()**:\n",
        "      Returns a view object of all values.\n",
        "* **items()**:\n",
        "      Returns a view object of all key-value pairs.\n",
        "* **get(key, default)**:\n",
        "      Returns the value for key if key is in the dictionary, else default."
      ],
      "metadata": {
        "id": "myuCLsznZaN4"
      }
    },
    {
      "cell_type": "code",
      "source": [
        "print(my_dict.keys())    # Output: dict_keys(['name', 'age'])\n",
        "print(my_dict.values())  # Output: dict_values(['Alice', 26])\n",
        "print(my_dict.items())   # Output: dict_items([('name', 'Alice'), ('age', 26)])\n",
        "\n",
        "# Using get method\n",
        "print(my_dict.get(\"name\"))               # Output: Alice\n",
        "print(my_dict.get(\"city\", \"Not Found\"))  # Output: Not Found"
      ],
      "metadata": {
        "id": "4gH-a-4IZlgt"
      },
      "execution_count": null,
      "outputs": []
    }
  ]
}